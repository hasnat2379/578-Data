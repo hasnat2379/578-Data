{
  "nbformat": 4,
  "nbformat_minor": 0,
  "metadata": {
    "colab": {
      "name": "Data 578.ipynb",
      "provenance": [],
      "collapsed_sections": [],
      "include_colab_link": true
    },
    "kernelspec": {
      "display_name": "Python 3",
      "name": "python3"
    }
  },
  "cells": [
    {
      "cell_type": "markdown",
      "metadata": {
        "id": "view-in-github",
        "colab_type": "text"
      },
      "source": [
        "<a href=\"https://colab.research.google.com/github/hasnat2379/578-Data/blob/master/Data_578.ipynb\" target=\"_parent\"><img src=\"https://colab.research.google.com/assets/colab-badge.svg\" alt=\"Open In Colab\"/></a>"
      ]
    },
    {
      "cell_type": "code",
      "metadata": {
        "id": "9gUTkUsm_nhN"
      },
      "source": [
        "# *****************************************\n",
        "# * Course: NAME 578                      *\n",
        "# * Assignment: Data Analysis Assignment  *\n",
        "# * Date: December 18, 2020               *\n",
        "# *                                       *\n",
        "# * Name                 ID#              *\n",
        "# * -------------------  --------         *\n",
        "# * Kiavash Ghadimi      90774803         *\n",
        "# * Hasnat Muhammad      54688346         *\n",
        "# * Douglas Prisnie      52216363         * \n",
        "# *****************************************"
      ],
      "execution_count": null,
      "outputs": []
    },
    {
      "cell_type": "code",
      "metadata": {
        "id": "wB4M8sxmLAtn"
      },
      "source": [
        "# IMPORT AND FILTER DATA\r\n",
        "# ----------------------\r\n",
        "\r\n",
        "import pandas as pd\r\n",
        "import numpy as np"
      ],
      "execution_count": null,
      "outputs": []
    },
    {
      "cell_type": "code",
      "metadata": {
        "id": "Wg1-rFN3M_-D"
      },
      "source": [
        "pd0 = 'out_0.csv'\r\n",
        "pd1 = 'out_1.csv'\r\n",
        "pd2 = 'out_2.csv'\r\n",
        "pd3 = 'out_3.csv'\r\n",
        "pd4 = 'out_4.csv'\r\n",
        "pd5 = 'out_5.csv'\r\n",
        "pd6 = 'out_6.csv'"
      ],
      "execution_count": null,
      "outputs": []
    },
    {
      "cell_type": "code",
      "metadata": {
        "id": "gpDIGRdvSrd1"
      },
      "source": [
        "import os\r\n",
        "import glob\r\n",
        "import pandas as pd\r\n",
        "os = (\"\\Desktop\\Data Analysis\\Data\")"
      ],
      "execution_count": null,
      "outputs": []
    },
    {
      "cell_type": "code",
      "metadata": {
        "id": "Twifiva4T6Op"
      },
      "source": [
        "extension = 'csv'\r\n",
        "all_filenames = [i for i in glob.glob('*.{}'.format(extension))]"
      ],
      "execution_count": null,
      "outputs": []
    },
    {
      "cell_type": "code",
      "metadata": {
        "id": "RaABY0gvUAtH",
        "colab": {
          "base_uri": "https://localhost:8080/"
        },
        "outputId": "d0d6b32c-f517-446e-9114-2ecdb2e84b4e"
      },
      "source": [
        "combined_csv = pd.concat([pd.read_csv(f) for f in all_filenames ])\r\n",
        "combined_csv.to_csv( \"combined_csv.csv\", index=False, encoding='utf-8-sig')"
      ],
      "execution_count": null,
      "outputs": [
        {
          "output_type": "stream",
          "text": [
            "/usr/local/lib/python3.6/dist-packages/IPython/core/interactiveshell.py:2822: DtypeWarning: Columns (0,1,12) have mixed types.Specify dtype option on import or set low_memory=False.\n",
            "  if self.run_code(code, result):\n"
          ],
          "name": "stderr"
        }
      ]
    },
    {
      "cell_type": "code",
      "metadata": {
        "colab": {
          "base_uri": "https://localhost:8080/",
          "height": 580
        },
        "id": "FmCm_OEjUaV1",
        "outputId": "d6711e98-ded8-4d57-f49e-2c697a855f77"
      },
      "source": [
        "import pandas\r\n",
        "df = pandas.read_csv('out_com.csv')\r\n",
        "display(df)"
      ],
      "execution_count": null,
      "outputs": [
        {
          "output_type": "stream",
          "text": [
            "/usr/local/lib/python3.6/dist-packages/IPython/core/interactiveshell.py:2718: DtypeWarning: Columns (0,1,12) have mixed types.Specify dtype option on import or set low_memory=False.\n",
            "  interactivity=interactivity, compiler=compiler, result=result)\n"
          ],
          "name": "stderr"
        },
        {
          "output_type": "display_data",
          "data": {
            "text/html": [
              "<div>\n",
              "<style scoped>\n",
              "    .dataframe tbody tr th:only-of-type {\n",
              "        vertical-align: middle;\n",
              "    }\n",
              "\n",
              "    .dataframe tbody tr th {\n",
              "        vertical-align: top;\n",
              "    }\n",
              "\n",
              "    .dataframe thead th {\n",
              "        text-align: right;\n",
              "    }\n",
              "</style>\n",
              "<table border=\"1\" class=\"dataframe\">\n",
              "  <thead>\n",
              "    <tr style=\"text-align: right;\">\n",
              "      <th></th>\n",
              "      <th>Datetime</th>\n",
              "      <th>Consump1 Rate (kg/h)</th>\n",
              "      <th>Consump2 Rate  (kg/h)</th>\n",
              "      <th>Eng1 Tot1 Mass (kg)</th>\n",
              "      <th>Eng1 Tot2 Mass (kg)</th>\n",
              "      <th>Eng2 Tot1 Mass (kg)</th>\n",
              "      <th>Eng2 Tot2 Mass (kg)</th>\n",
              "      <th>Torque 1 (kNm)</th>\n",
              "      <th>Speed 1 (rpm)</th>\n",
              "      <th>Power1 (kW)</th>\n",
              "      <th>SpeedlogSpeed (kn)</th>\n",
              "      <th>Gps Speed (kn)</th>\n",
              "      <th>Aux Power1 (kW)</th>\n",
              "    </tr>\n",
              "  </thead>\n",
              "  <tbody>\n",
              "    <tr>\n",
              "      <th>0</th>\n",
              "      <td>2018-12-09 13:09</td>\n",
              "      <td>822.5</td>\n",
              "      <td>122.2</td>\n",
              "      <td>1938946</td>\n",
              "      <td>76908</td>\n",
              "      <td>260993</td>\n",
              "      <td>51114</td>\n",
              "      <td>536</td>\n",
              "      <td>73</td>\n",
              "      <td>4110</td>\n",
              "      <td>13.2</td>\n",
              "      <td>12.4</td>\n",
              "      <td>362</td>\n",
              "    </tr>\n",
              "    <tr>\n",
              "      <th>1</th>\n",
              "      <td>2018-12-09 13:10</td>\n",
              "      <td>840.1</td>\n",
              "      <td>110.0</td>\n",
              "      <td>1938946</td>\n",
              "      <td>76908</td>\n",
              "      <td>260993</td>\n",
              "      <td>51114</td>\n",
              "      <td>542</td>\n",
              "      <td>73</td>\n",
              "      <td>4155</td>\n",
              "      <td>13.1</td>\n",
              "      <td>12.4</td>\n",
              "      <td>374</td>\n",
              "    </tr>\n",
              "    <tr>\n",
              "      <th>2</th>\n",
              "      <td>2018-12-09 13:11</td>\n",
              "      <td>852.9</td>\n",
              "      <td>105.2</td>\n",
              "      <td>1938992</td>\n",
              "      <td>76908</td>\n",
              "      <td>260998</td>\n",
              "      <td>51114</td>\n",
              "      <td>546</td>\n",
              "      <td>73</td>\n",
              "      <td>4182</td>\n",
              "      <td>13.1</td>\n",
              "      <td>12.4</td>\n",
              "      <td>361</td>\n",
              "    </tr>\n",
              "    <tr>\n",
              "      <th>3</th>\n",
              "      <td>2018-12-09 13:12</td>\n",
              "      <td>856</td>\n",
              "      <td>102.3</td>\n",
              "      <td>1938992</td>\n",
              "      <td>76908</td>\n",
              "      <td>260998</td>\n",
              "      <td>51114</td>\n",
              "      <td>548</td>\n",
              "      <td>73</td>\n",
              "      <td>4205</td>\n",
              "      <td>13.1</td>\n",
              "      <td>12.4</td>\n",
              "      <td>360</td>\n",
              "    </tr>\n",
              "    <tr>\n",
              "      <th>4</th>\n",
              "      <td>2018-12-09 13:13</td>\n",
              "      <td>855.3</td>\n",
              "      <td>94.5</td>\n",
              "      <td>1938992</td>\n",
              "      <td>76908</td>\n",
              "      <td>260998</td>\n",
              "      <td>51114</td>\n",
              "      <td>544</td>\n",
              "      <td>73</td>\n",
              "      <td>4165</td>\n",
              "      <td>13.2</td>\n",
              "      <td>12.4</td>\n",
              "      <td>358</td>\n",
              "    </tr>\n",
              "    <tr>\n",
              "      <th>...</th>\n",
              "      <td>...</td>\n",
              "      <td>...</td>\n",
              "      <td>...</td>\n",
              "      <td>...</td>\n",
              "      <td>...</td>\n",
              "      <td>...</td>\n",
              "      <td>...</td>\n",
              "      <td>...</td>\n",
              "      <td>...</td>\n",
              "      <td>...</td>\n",
              "      <td>...</td>\n",
              "      <td>...</td>\n",
              "      <td>...</td>\n",
              "    </tr>\n",
              "    <tr>\n",
              "      <th>143947</th>\n",
              "      <td>NaN</td>\n",
              "      <td>990.3</td>\n",
              "      <td>104.6</td>\n",
              "      <td>3007413</td>\n",
              "      <td>85952</td>\n",
              "      <td>382207</td>\n",
              "      <td>59893</td>\n",
              "      <td>624</td>\n",
              "      <td>76</td>\n",
              "      <td>4978</td>\n",
              "      <td>12.0</td>\n",
              "      <td>11.1</td>\n",
              "      <td>427</td>\n",
              "    </tr>\n",
              "    <tr>\n",
              "      <th>143948</th>\n",
              "      <td>NaN</td>\n",
              "      <td>977.9</td>\n",
              "      <td>103.1</td>\n",
              "      <td>3007468</td>\n",
              "      <td>85952</td>\n",
              "      <td>382212</td>\n",
              "      <td>59893</td>\n",
              "      <td>614</td>\n",
              "      <td>76</td>\n",
              "      <td>4905</td>\n",
              "      <td>12.0</td>\n",
              "      <td>11.1</td>\n",
              "      <td>421</td>\n",
              "    </tr>\n",
              "    <tr>\n",
              "      <th>143949</th>\n",
              "      <td>NaN</td>\n",
              "      <td>1000.2</td>\n",
              "      <td>106.2</td>\n",
              "      <td>3007468</td>\n",
              "      <td>85952</td>\n",
              "      <td>382212</td>\n",
              "      <td>59893</td>\n",
              "      <td>627</td>\n",
              "      <td>76</td>\n",
              "      <td>5018</td>\n",
              "      <td>12.1</td>\n",
              "      <td>11.0</td>\n",
              "      <td>437</td>\n",
              "    </tr>\n",
              "    <tr>\n",
              "      <th>143950</th>\n",
              "      <td>NaN</td>\n",
              "      <td>1001</td>\n",
              "      <td>102.8</td>\n",
              "      <td>3007468</td>\n",
              "      <td>85952</td>\n",
              "      <td>382212</td>\n",
              "      <td>59893</td>\n",
              "      <td>628</td>\n",
              "      <td>76</td>\n",
              "      <td>5012</td>\n",
              "      <td>12.0</td>\n",
              "      <td>11.0</td>\n",
              "      <td>422</td>\n",
              "    </tr>\n",
              "    <tr>\n",
              "      <th>143951</th>\n",
              "      <td>NaN</td>\n",
              "      <td>994.5</td>\n",
              "      <td>105.3</td>\n",
              "      <td>3007523</td>\n",
              "      <td>85952</td>\n",
              "      <td>382218</td>\n",
              "      <td>59893</td>\n",
              "      <td>622</td>\n",
              "      <td>76</td>\n",
              "      <td>4975</td>\n",
              "      <td>12.1</td>\n",
              "      <td>11.0</td>\n",
              "      <td>434</td>\n",
              "    </tr>\n",
              "  </tbody>\n",
              "</table>\n",
              "<p>143952 rows × 13 columns</p>\n",
              "</div>"
            ],
            "text/plain": [
              "                Datetime Consump1 Rate (kg/h)  ...  Gps Speed (kn)  Aux Power1 (kW)\n",
              "0       2018-12-09 13:09                822.5  ...            12.4              362\n",
              "1       2018-12-09 13:10                840.1  ...            12.4              374\n",
              "2       2018-12-09 13:11                852.9  ...            12.4              361\n",
              "3       2018-12-09 13:12                  856  ...            12.4              360\n",
              "4       2018-12-09 13:13                855.3  ...            12.4              358\n",
              "...                  ...                  ...  ...             ...              ...\n",
              "143947               NaN                990.3  ...            11.1              427\n",
              "143948               NaN                977.9  ...            11.1              421\n",
              "143949               NaN               1000.2  ...            11.0              437\n",
              "143950               NaN                 1001  ...            11.0              422\n",
              "143951               NaN                994.5  ...            11.0              434\n",
              "\n",
              "[143952 rows x 13 columns]"
            ]
          },
          "metadata": {
            "tags": []
          }
        }
      ]
    },
    {
      "cell_type": "code",
      "metadata": {
        "colab": {
          "base_uri": "https://localhost:8080/"
        },
        "id": "JVIb3-FouhTt",
        "outputId": "5f06e4b3-7cdf-4080-b368-6cdd2aeef2ad"
      },
      "source": [
        "import pandas\r\n",
        "df = pandas.read_csv('out_com.csv')\r\n",
        "\r\n",
        "df = df.dropna() # Drop NaN\r\n",
        "df = df[\r\n",
        "    # Conditions\r\n",
        "    (df['Speed 1 (rpm)'] > 30) &\r\n",
        "    (df['Speed 1 (rpm)'] < 140) \r\n",
        "     ]\r\n",
        "\r\n"
      ],
      "execution_count": 126,
      "outputs": [
        {
          "output_type": "stream",
          "text": [
            "/usr/local/lib/python3.6/dist-packages/IPython/core/interactiveshell.py:2718: DtypeWarning: Columns (0,1,12) have mixed types.Specify dtype option on import or set low_memory=False.\n",
            "  interactivity=interactivity, compiler=compiler, result=result)\n"
          ],
          "name": "stderr"
        }
      ]
    },
    {
      "cell_type": "code",
      "metadata": {
        "colab": {
          "base_uri": "https://localhost:8080/",
          "height": 610
        },
        "id": "7XG68XXrQXWA",
        "outputId": "29fad0b0-e4de-4948-db67-50a622dfac65"
      },
      "source": [
        "display(df)"
      ],
      "execution_count": null,
      "outputs": [
        {
          "output_type": "display_data",
          "data": {
            "text/html": [
              "<div>\n",
              "<style scoped>\n",
              "    .dataframe tbody tr th:only-of-type {\n",
              "        vertical-align: middle;\n",
              "    }\n",
              "\n",
              "    .dataframe tbody tr th {\n",
              "        vertical-align: top;\n",
              "    }\n",
              "\n",
              "    .dataframe thead th {\n",
              "        text-align: right;\n",
              "    }\n",
              "</style>\n",
              "<table border=\"1\" class=\"dataframe\">\n",
              "  <thead>\n",
              "    <tr style=\"text-align: right;\">\n",
              "      <th></th>\n",
              "      <th>Datetime</th>\n",
              "      <th>Consump1 Rate (kg/h)</th>\n",
              "      <th>Consump2 Rate  (kg/h)</th>\n",
              "      <th>Eng1 Tot1 Mass (kg)</th>\n",
              "      <th>Eng1 Tot2 Mass (kg)</th>\n",
              "      <th>Eng2 Tot1 Mass (kg)</th>\n",
              "      <th>Eng2 Tot2 Mass (kg)</th>\n",
              "      <th>Torque 1 (kNm)</th>\n",
              "      <th>Speed 1 (rpm)</th>\n",
              "      <th>Power1 (kW)</th>\n",
              "      <th>SpeedlogSpeed (kn)</th>\n",
              "      <th>Gps Speed (kn)</th>\n",
              "      <th>Aux Power1 (kW)</th>\n",
              "    </tr>\n",
              "  </thead>\n",
              "  <tbody>\n",
              "    <tr>\n",
              "      <th>0</th>\n",
              "      <td>2018-12-09 13:09</td>\n",
              "      <td>822.5</td>\n",
              "      <td>122.2</td>\n",
              "      <td>1938946</td>\n",
              "      <td>76908</td>\n",
              "      <td>260993</td>\n",
              "      <td>51114</td>\n",
              "      <td>536</td>\n",
              "      <td>73</td>\n",
              "      <td>4110</td>\n",
              "      <td>13.2</td>\n",
              "      <td>12.4</td>\n",
              "      <td>362</td>\n",
              "    </tr>\n",
              "    <tr>\n",
              "      <th>1</th>\n",
              "      <td>2018-12-09 13:10</td>\n",
              "      <td>840.1</td>\n",
              "      <td>110.0</td>\n",
              "      <td>1938946</td>\n",
              "      <td>76908</td>\n",
              "      <td>260993</td>\n",
              "      <td>51114</td>\n",
              "      <td>542</td>\n",
              "      <td>73</td>\n",
              "      <td>4155</td>\n",
              "      <td>13.1</td>\n",
              "      <td>12.4</td>\n",
              "      <td>374</td>\n",
              "    </tr>\n",
              "    <tr>\n",
              "      <th>2</th>\n",
              "      <td>2018-12-09 13:11</td>\n",
              "      <td>852.9</td>\n",
              "      <td>105.2</td>\n",
              "      <td>1938992</td>\n",
              "      <td>76908</td>\n",
              "      <td>260998</td>\n",
              "      <td>51114</td>\n",
              "      <td>546</td>\n",
              "      <td>73</td>\n",
              "      <td>4182</td>\n",
              "      <td>13.1</td>\n",
              "      <td>12.4</td>\n",
              "      <td>361</td>\n",
              "    </tr>\n",
              "    <tr>\n",
              "      <th>3</th>\n",
              "      <td>2018-12-09 13:12</td>\n",
              "      <td>856</td>\n",
              "      <td>102.3</td>\n",
              "      <td>1938992</td>\n",
              "      <td>76908</td>\n",
              "      <td>260998</td>\n",
              "      <td>51114</td>\n",
              "      <td>548</td>\n",
              "      <td>73</td>\n",
              "      <td>4205</td>\n",
              "      <td>13.1</td>\n",
              "      <td>12.4</td>\n",
              "      <td>360</td>\n",
              "    </tr>\n",
              "    <tr>\n",
              "      <th>4</th>\n",
              "      <td>2018-12-09 13:13</td>\n",
              "      <td>855.3</td>\n",
              "      <td>94.5</td>\n",
              "      <td>1938992</td>\n",
              "      <td>76908</td>\n",
              "      <td>260998</td>\n",
              "      <td>51114</td>\n",
              "      <td>544</td>\n",
              "      <td>73</td>\n",
              "      <td>4165</td>\n",
              "      <td>13.2</td>\n",
              "      <td>12.4</td>\n",
              "      <td>358</td>\n",
              "    </tr>\n",
              "    <tr>\n",
              "      <th>...</th>\n",
              "      <td>...</td>\n",
              "      <td>...</td>\n",
              "      <td>...</td>\n",
              "      <td>...</td>\n",
              "      <td>...</td>\n",
              "      <td>...</td>\n",
              "      <td>...</td>\n",
              "      <td>...</td>\n",
              "      <td>...</td>\n",
              "      <td>...</td>\n",
              "      <td>...</td>\n",
              "      <td>...</td>\n",
              "      <td>...</td>\n",
              "    </tr>\n",
              "    <tr>\n",
              "      <th>126520</th>\n",
              "      <td>2018-12-22 19:04</td>\n",
              "      <td>873.2</td>\n",
              "      <td>115.9</td>\n",
              "      <td>2195075</td>\n",
              "      <td>76908</td>\n",
              "      <td>293823</td>\n",
              "      <td>51114</td>\n",
              "      <td>553</td>\n",
              "      <td>75</td>\n",
              "      <td>4346</td>\n",
              "      <td>13.7</td>\n",
              "      <td>13.2</td>\n",
              "      <td>395</td>\n",
              "    </tr>\n",
              "    <tr>\n",
              "      <th>126521</th>\n",
              "      <td>2018-12-22 19:05</td>\n",
              "      <td>885</td>\n",
              "      <td>101.3</td>\n",
              "      <td>2195075</td>\n",
              "      <td>76908</td>\n",
              "      <td>293823</td>\n",
              "      <td>51114</td>\n",
              "      <td>555</td>\n",
              "      <td>75</td>\n",
              "      <td>4356</td>\n",
              "      <td>13.7</td>\n",
              "      <td>13.2</td>\n",
              "      <td>395</td>\n",
              "    </tr>\n",
              "    <tr>\n",
              "      <th>126522</th>\n",
              "      <td>2018-12-22 19:06</td>\n",
              "      <td>888.7</td>\n",
              "      <td>103.0</td>\n",
              "      <td>2195075</td>\n",
              "      <td>76908</td>\n",
              "      <td>293823</td>\n",
              "      <td>51114</td>\n",
              "      <td>554</td>\n",
              "      <td>75</td>\n",
              "      <td>4341</td>\n",
              "      <td>13.7</td>\n",
              "      <td>13.2</td>\n",
              "      <td>412</td>\n",
              "    </tr>\n",
              "    <tr>\n",
              "      <th>126523</th>\n",
              "      <td>2018-12-22 19:07</td>\n",
              "      <td>886.4</td>\n",
              "      <td>106.6</td>\n",
              "      <td>2195119</td>\n",
              "      <td>76908</td>\n",
              "      <td>293828</td>\n",
              "      <td>51114</td>\n",
              "      <td>552</td>\n",
              "      <td>75</td>\n",
              "      <td>4327</td>\n",
              "      <td>13.7</td>\n",
              "      <td>13.2</td>\n",
              "      <td>432</td>\n",
              "    </tr>\n",
              "    <tr>\n",
              "      <th>126524</th>\n",
              "      <td>2018-12-22 19:08</td>\n",
              "      <td>891.1</td>\n",
              "      <td>104.2</td>\n",
              "      <td>2195119</td>\n",
              "      <td>76908</td>\n",
              "      <td>293828</td>\n",
              "      <td>51114</td>\n",
              "      <td>553</td>\n",
              "      <td>75</td>\n",
              "      <td>4343</td>\n",
              "      <td>13.6</td>\n",
              "      <td>13.2</td>\n",
              "      <td>433</td>\n",
              "    </tr>\n",
              "  </tbody>\n",
              "</table>\n",
              "<p>90862 rows × 13 columns</p>\n",
              "</div>"
            ],
            "text/plain": [
              "                Datetime Consump1 Rate (kg/h)  ...  Gps Speed (kn)  Aux Power1 (kW)\n",
              "0       2018-12-09 13:09                822.5  ...            12.4              362\n",
              "1       2018-12-09 13:10                840.1  ...            12.4              374\n",
              "2       2018-12-09 13:11                852.9  ...            12.4              361\n",
              "3       2018-12-09 13:12                  856  ...            12.4              360\n",
              "4       2018-12-09 13:13                855.3  ...            12.4              358\n",
              "...                  ...                  ...  ...             ...              ...\n",
              "126520  2018-12-22 19:04                873.2  ...            13.2              395\n",
              "126521  2018-12-22 19:05                  885  ...            13.2              395\n",
              "126522  2018-12-22 19:06                888.7  ...            13.2              412\n",
              "126523  2018-12-22 19:07                886.4  ...            13.2              432\n",
              "126524  2018-12-22 19:08                891.1  ...            13.2              433\n",
              "\n",
              "[90862 rows x 13 columns]"
            ]
          },
          "metadata": {
            "tags": []
          }
        }
      ]
    },
    {
      "cell_type": "code",
      "metadata": {
        "colab": {
          "base_uri": "https://localhost:8080/",
          "height": 411
        },
        "id": "iNP0ZWVksyuK",
        "outputId": "946529d8-3027-4b0e-afbd-570eb94b8879"
      },
      "source": [
        "display(df[['Datetime','Eng1 Tot1 Mass (kg)', 'Power1 (kW)']])"
      ],
      "execution_count": 128,
      "outputs": [
        {
          "output_type": "display_data",
          "data": {
            "text/html": [
              "<div>\n",
              "<style scoped>\n",
              "    .dataframe tbody tr th:only-of-type {\n",
              "        vertical-align: middle;\n",
              "    }\n",
              "\n",
              "    .dataframe tbody tr th {\n",
              "        vertical-align: top;\n",
              "    }\n",
              "\n",
              "    .dataframe thead th {\n",
              "        text-align: right;\n",
              "    }\n",
              "</style>\n",
              "<table border=\"1\" class=\"dataframe\">\n",
              "  <thead>\n",
              "    <tr style=\"text-align: right;\">\n",
              "      <th></th>\n",
              "      <th>Datetime</th>\n",
              "      <th>Eng1 Tot1 Mass (kg)</th>\n",
              "      <th>Power1 (kW)</th>\n",
              "    </tr>\n",
              "  </thead>\n",
              "  <tbody>\n",
              "    <tr>\n",
              "      <th>0</th>\n",
              "      <td>2018-12-09 13:09</td>\n",
              "      <td>1938946</td>\n",
              "      <td>4110</td>\n",
              "    </tr>\n",
              "    <tr>\n",
              "      <th>1</th>\n",
              "      <td>2018-12-09 13:10</td>\n",
              "      <td>1938946</td>\n",
              "      <td>4155</td>\n",
              "    </tr>\n",
              "    <tr>\n",
              "      <th>2</th>\n",
              "      <td>2018-12-09 13:11</td>\n",
              "      <td>1938992</td>\n",
              "      <td>4182</td>\n",
              "    </tr>\n",
              "    <tr>\n",
              "      <th>3</th>\n",
              "      <td>2018-12-09 13:12</td>\n",
              "      <td>1938992</td>\n",
              "      <td>4205</td>\n",
              "    </tr>\n",
              "    <tr>\n",
              "      <th>4</th>\n",
              "      <td>2018-12-09 13:13</td>\n",
              "      <td>1938992</td>\n",
              "      <td>4165</td>\n",
              "    </tr>\n",
              "    <tr>\n",
              "      <th>...</th>\n",
              "      <td>...</td>\n",
              "      <td>...</td>\n",
              "      <td>...</td>\n",
              "    </tr>\n",
              "    <tr>\n",
              "      <th>126520</th>\n",
              "      <td>2018-12-22 19:04</td>\n",
              "      <td>2195075</td>\n",
              "      <td>4346</td>\n",
              "    </tr>\n",
              "    <tr>\n",
              "      <th>126521</th>\n",
              "      <td>2018-12-22 19:05</td>\n",
              "      <td>2195075</td>\n",
              "      <td>4356</td>\n",
              "    </tr>\n",
              "    <tr>\n",
              "      <th>126522</th>\n",
              "      <td>2018-12-22 19:06</td>\n",
              "      <td>2195075</td>\n",
              "      <td>4341</td>\n",
              "    </tr>\n",
              "    <tr>\n",
              "      <th>126523</th>\n",
              "      <td>2018-12-22 19:07</td>\n",
              "      <td>2195119</td>\n",
              "      <td>4327</td>\n",
              "    </tr>\n",
              "    <tr>\n",
              "      <th>126524</th>\n",
              "      <td>2018-12-22 19:08</td>\n",
              "      <td>2195119</td>\n",
              "      <td>4343</td>\n",
              "    </tr>\n",
              "  </tbody>\n",
              "</table>\n",
              "<p>90862 rows × 3 columns</p>\n",
              "</div>"
            ],
            "text/plain": [
              "                Datetime  Eng1 Tot1 Mass (kg)  Power1 (kW)\n",
              "0       2018-12-09 13:09              1938946         4110\n",
              "1       2018-12-09 13:10              1938946         4155\n",
              "2       2018-12-09 13:11              1938992         4182\n",
              "3       2018-12-09 13:12              1938992         4205\n",
              "4       2018-12-09 13:13              1938992         4165\n",
              "...                  ...                  ...          ...\n",
              "126520  2018-12-22 19:04              2195075         4346\n",
              "126521  2018-12-22 19:05              2195075         4356\n",
              "126522  2018-12-22 19:06              2195075         4341\n",
              "126523  2018-12-22 19:07              2195119         4327\n",
              "126524  2018-12-22 19:08              2195119         4343\n",
              "\n",
              "[90862 rows x 3 columns]"
            ]
          },
          "metadata": {
            "tags": []
          }
        }
      ]
    },
    {
      "cell_type": "code",
      "metadata": {
        "colab": {
          "base_uri": "https://localhost:8080/",
          "height": 127
        },
        "id": "7Y6neuSfkwFj",
        "outputId": "0825be46-73bc-49fd-fa62-3be5a1bb6623"
      },
      "source": [
        "df['2018-12-10'])\r\n",
        "\r\n"
      ],
      "execution_count": 125,
      "outputs": [
        {
          "output_type": "error",
          "ename": "SyntaxError",
          "evalue": "ignored",
          "traceback": [
            "\u001b[0;36m  File \u001b[0;32m\"<ipython-input-125-728136b2a335>\"\u001b[0;36m, line \u001b[0;32m1\u001b[0m\n\u001b[0;31m    df['2018-12-10'])\u001b[0m\n\u001b[0m                    ^\u001b[0m\n\u001b[0;31mSyntaxError\u001b[0m\u001b[0;31m:\u001b[0m invalid syntax\n"
          ]
        }
      ]
    },
    {
      "cell_type": "code",
      "metadata": {
        "colab": {
          "base_uri": "https://localhost:8080/",
          "height": 329
        },
        "id": "DEEoayh0-ama",
        "outputId": "02c22500-9024-4fb6-ee9a-d86486040345"
      },
      "source": [
        "# VISUALIZE DATA\n",
        "# --------------\n",
        "\n",
        "# Import librairies \n",
        "import matplotlib\n",
        "import matplotlib.pyplot as plt\n",
        "\n",
        "# Show stats for data \n",
        "df.describe()"
      ],
      "execution_count": null,
      "outputs": [
        {
          "output_type": "execute_result",
          "data": {
            "text/html": [
              "<div>\n",
              "<style scoped>\n",
              "    .dataframe tbody tr th:only-of-type {\n",
              "        vertical-align: middle;\n",
              "    }\n",
              "\n",
              "    .dataframe tbody tr th {\n",
              "        vertical-align: top;\n",
              "    }\n",
              "\n",
              "    .dataframe thead th {\n",
              "        text-align: right;\n",
              "    }\n",
              "</style>\n",
              "<table border=\"1\" class=\"dataframe\">\n",
              "  <thead>\n",
              "    <tr style=\"text-align: right;\">\n",
              "      <th></th>\n",
              "      <th>Unnamed: 0</th>\n",
              "      <th>Consump2 Rate  (kg/h)</th>\n",
              "      <th>Eng1 Tot1 Mass (kg)</th>\n",
              "      <th>Eng1 Tot2 Mass (kg)</th>\n",
              "      <th>Eng2 Tot1 Mass (kg)</th>\n",
              "      <th>Eng2 Tot2 Mass (kg)</th>\n",
              "      <th>Torque 1 (kNm)</th>\n",
              "      <th>Speed 1 (rpm)</th>\n",
              "      <th>Power1 (kW)</th>\n",
              "      <th>SpeedlogSpeed (kn)</th>\n",
              "      <th>Gps Speed (kn)</th>\n",
              "    </tr>\n",
              "  </thead>\n",
              "  <tbody>\n",
              "    <tr>\n",
              "      <th>count</th>\n",
              "      <td>91752.000000</td>\n",
              "      <td>91752.000000</td>\n",
              "      <td>9.175200e+04</td>\n",
              "      <td>9.175200e+04</td>\n",
              "      <td>91752.000000</td>\n",
              "      <td>91752.000000</td>\n",
              "      <td>91752.000000</td>\n",
              "      <td>91752.000000</td>\n",
              "      <td>91752.000000</td>\n",
              "      <td>91752.000000</td>\n",
              "      <td>91752.000000</td>\n",
              "    </tr>\n",
              "    <tr>\n",
              "      <th>mean</th>\n",
              "      <td>57811.271634</td>\n",
              "      <td>108.494862</td>\n",
              "      <td>1.874034e+06</td>\n",
              "      <td>7.667026e+04</td>\n",
              "      <td>247220.200105</td>\n",
              "      <td>49154.127518</td>\n",
              "      <td>537.667713</td>\n",
              "      <td>71.316636</td>\n",
              "      <td>4073.926280</td>\n",
              "      <td>12.240389</td>\n",
              "      <td>11.916072</td>\n",
              "    </tr>\n",
              "    <tr>\n",
              "      <th>std</th>\n",
              "      <td>38608.272337</td>\n",
              "      <td>21.532971</td>\n",
              "      <td>1.896452e+05</td>\n",
              "      <td>2.016396e+04</td>\n",
              "      <td>30717.571168</td>\n",
              "      <td>3592.379318</td>\n",
              "      <td>73.398416</td>\n",
              "      <td>9.460328</td>\n",
              "      <td>662.801897</td>\n",
              "      <td>1.609933</td>\n",
              "      <td>1.685905</td>\n",
              "    </tr>\n",
              "    <tr>\n",
              "      <th>min</th>\n",
              "      <td>0.000000</td>\n",
              "      <td>0.000000</td>\n",
              "      <td>0.000000e+00</td>\n",
              "      <td>0.000000e+00</td>\n",
              "      <td>0.000000</td>\n",
              "      <td>0.000000</td>\n",
              "      <td>0.000000</td>\n",
              "      <td>0.000000</td>\n",
              "      <td>0.000000</td>\n",
              "      <td>0.000000</td>\n",
              "      <td>0.000000</td>\n",
              "    </tr>\n",
              "    <tr>\n",
              "      <th>25%</th>\n",
              "      <td>22937.750000</td>\n",
              "      <td>96.000000</td>\n",
              "      <td>1.707588e+06</td>\n",
              "      <td>7.579900e+04</td>\n",
              "      <td>215824.000000</td>\n",
              "      <td>45221.000000</td>\n",
              "      <td>527.000000</td>\n",
              "      <td>72.000000</td>\n",
              "      <td>3967.000000</td>\n",
              "      <td>12.000000</td>\n",
              "      <td>11.400000</td>\n",
              "    </tr>\n",
              "    <tr>\n",
              "      <th>50%</th>\n",
              "      <td>54663.500000</td>\n",
              "      <td>104.300000</td>\n",
              "      <td>1.881335e+06</td>\n",
              "      <td>7.690800e+04</td>\n",
              "      <td>252960.000000</td>\n",
              "      <td>51114.000000</td>\n",
              "      <td>538.000000</td>\n",
              "      <td>72.000000</td>\n",
              "      <td>4084.000000</td>\n",
              "      <td>12.700000</td>\n",
              "      <td>12.300000</td>\n",
              "    </tr>\n",
              "    <tr>\n",
              "      <th>75%</th>\n",
              "      <td>86274.250000</td>\n",
              "      <td>115.300000</td>\n",
              "      <td>2.034428e+06</td>\n",
              "      <td>7.690800e+04</td>\n",
              "      <td>273877.000000</td>\n",
              "      <td>51114.000000</td>\n",
              "      <td>561.000000</td>\n",
              "      <td>73.000000</td>\n",
              "      <td>4320.250000</td>\n",
              "      <td>13.100000</td>\n",
              "      <td>12.800000</td>\n",
              "    </tr>\n",
              "    <tr>\n",
              "      <th>max</th>\n",
              "      <td>126524.000000</td>\n",
              "      <td>1063.100000</td>\n",
              "      <td>2.195119e+06</td>\n",
              "      <td>2.007979e+06</td>\n",
              "      <td>293828.000000</td>\n",
              "      <td>270212.000000</td>\n",
              "      <td>734.000000</td>\n",
              "      <td>610.000000</td>\n",
              "      <td>5968.000000</td>\n",
              "      <td>14.800000</td>\n",
              "      <td>17.100000</td>\n",
              "    </tr>\n",
              "  </tbody>\n",
              "</table>\n",
              "</div>"
            ],
            "text/plain": [
              "          Unnamed: 0  Consump2 Rate  (kg/h)  ...  SpeedlogSpeed (kn)  Gps Speed (kn)\n",
              "count   91752.000000           91752.000000  ...        91752.000000    91752.000000\n",
              "mean    57811.271634             108.494862  ...           12.240389       11.916072\n",
              "std     38608.272337              21.532971  ...            1.609933        1.685905\n",
              "min         0.000000               0.000000  ...            0.000000        0.000000\n",
              "25%     22937.750000              96.000000  ...           12.000000       11.400000\n",
              "50%     54663.500000             104.300000  ...           12.700000       12.300000\n",
              "75%     86274.250000             115.300000  ...           13.100000       12.800000\n",
              "max    126524.000000            1063.100000  ...           14.800000       17.100000\n",
              "\n",
              "[8 rows x 11 columns]"
            ]
          },
          "metadata": {
            "tags": []
          },
          "execution_count": 45
        }
      ]
    },
    {
      "cell_type": "code",
      "metadata": {
        "id": "H4Dv2b_--4P2",
        "colab": {
          "base_uri": "https://localhost:8080/",
          "height": 409
        },
        "outputId": "4126f6af-e4d3-4773-b0e3-2e606551edb6"
      },
      "source": [
        "# Plot histogram for torque\n",
        "plt.figure(figsize=(10,6)) # Specify the size\n",
        "plt.hist(df['Torque 1 (kNm)'], bins=25, facecolor=(0.1, 0.3, 0.5)) # Plot\n",
        "plt.title('Torque 1 Histogram', fontsize=14)\n",
        "plt.xlabel('Torque 1 [kNm]', fontsize=14)\n",
        "plt.ylabel('Relative Frequency', fontsize=14)\n",
        "plt.grid()\n",
        "plt.savefig('torque-hist.png',dpi=150) # Saving options \n",
        "plt.show()"
      ],
      "execution_count": null,
      "outputs": [
        {
          "output_type": "display_data",
          "data": {
            "image/png": "[encoded data removed]",
            "text/plain": [
              "<Figure size 720x432 with 1 Axes>"
            ]
          },
          "metadata": {
            "tags": [],
            "needs_background": "light"
          }
        }
      ]
    },
    {
      "cell_type": "code",
      "metadata": {
        "id": "jRaX5f5M1bgV",
        "colab": {
          "base_uri": "https://localhost:8080/",
          "height": 409
        },
        "outputId": "2c9443d2-8603-4fa0-b4d1-b6993f57a02e"
      },
      "source": [
        "# Plot histogram for consupmtion rate\n",
        "plt.figure(figsize=(10,6)) # Specify the size\n",
        "plt.hist(df['Consump2 Rate  (kg/h)'], bins=25, facecolor=(0.1, 0.3, 0.5)) # Plot\n",
        "plt.xlim(0, 300)\n",
        "plt.title('Consumption Rate 2 Histogram', fontsize=14)\n",
        "plt.xlabel('Consumption Rate 2 [kg/h]', fontsize=14)\n",
        "plt.ylabel('Relative Frequency', fontsize=14)\n",
        "plt.grid()\n",
        "plt.savefig('consump-hist.png',dpi=150) # Saving options \n",
        "plt.show()"
      ],
      "execution_count": null,
      "outputs": [
        {
          "output_type": "display_data",
          "data": {
            "image/png": "[encoded data removed]",
            "text/plain": [
              "<Figure size 720x432 with 1 Axes>"
            ]
          },
          "metadata": {
            "tags": [],
            "needs_background": "light"
          }
        }
      ]
    },
    {
      "cell_type": "code",
      "metadata": {
        "id": "KeRdbLYB92c_",
        "colab": {
          "base_uri": "https://localhost:8080/",
          "height": 409
        },
        "outputId": "6abd7f4e-1f00-4694-9a7c-ff695cffebe8"
      },
      "source": [
        "# Scatter plot speed versus torque \n",
        "plt.figure(figsize=(10,6)) # Specify the size\n",
        "plt.scatter(df['Speed 1 (rpm)'], df['Torque 1 (kNm)'], color=(0.1, 0.3, 0.5))\n",
        "plt.title('Torque 1 versus Speed', fontsize=14)\n",
        "plt.xlabel('Speed 1 [rpm]', fontsize=14)\n",
        "plt.ylabel('Torque 1 [kNm]', fontsize=14)\n",
        "plt.grid()\n",
        "plt.savefig('torque-vs-speed.png',dpi=150) # Saving options\n",
        "plt.show()"
      ],
      "execution_count": null,
      "outputs": [
        {
          "output_type": "display_data",
          "data": {
            "image/png": "[encoded data removed]",
            "text/plain": [
              "<Figure size 720x432 with 1 Axes>"
            ]
          },
          "metadata": {
            "tags": [],
            "needs_background": "light"
          }
        }
      ]
    },
    {
      "cell_type": "code",
      "metadata": {
        "id": "dohaz5ow_WT8",
        "colab": {
          "base_uri": "https://localhost:8080/",
          "height": 409
        },
        "outputId": "203d7bf9-ed2f-48b6-a2f5-08abc907d6e9"
      },
      "source": [
        "# Scatter plot power versus speed\n",
        "plt.figure(figsize=(10,6)) # Specify the size\n",
        "plt.scatter(df['Speed 1 (rpm)'], df['SpeedlogSpeed (kn)'], color=(0.1, 0.3, 0.5))\n",
        "plt.title('RPM versus KNOT ', fontsize=14)\n",
        "plt.xlabel('Speed 1 [rpm]', fontsize=14)\n",
        "plt.ylabel('Log Speed [Kn]', fontsize=14)\n",
        "plt.grid()\n",
        "plt.savefig('rpm-vs-speed.png',dpi=150) # Saving options\n",
        "plt.show()"
      ],
      "execution_count": null,
      "outputs": [
        {
          "output_type": "display_data",
          "data": {
            "image/png": "[encoded data removed]",
            "text/plain": [
              "<Figure size 720x432 with 1 Axes>"
            ]
          },
          "metadata": {
            "tags": [],
            "needs_background": "light"
          }
        }
      ]
    },
    {
      "cell_type": "code",
      "metadata": {
        "id": "uAAj6OOH4HV4",
        "colab": {
          "base_uri": "https://localhost:8080/",
          "height": 409
        },
        "outputId": "9f3fe0bb-9480-48c5-8ebd-e47861157d7e"
      },
      "source": [
        "# Scatter plot power versus ship speed\n",
        "plt.figure(figsize=(10,6)) # Specify the size\n",
        "plt.scatter(df['SpeedlogSpeed (kn)'], df['Consump2 Rate  (kg/h)'], color=(0.1, 0.3, 0.5))\n",
        "plt.ylim(0, 400)\n",
        "plt.title('Power versus Speed', fontsize=14)\n",
        "plt.xlabel('SpeedlogSpeed [kn]', fontsize=14)\n",
        "plt.ylabel('Consumption Rate 2 [kg/h]', fontsize=14)\n",
        "plt.grid()\n",
        "plt.savefig('consump-vs-speed.png',dpi=150) # Saving options\n",
        "plt.show()"
      ],
      "execution_count": null,
      "outputs": [
        {
          "output_type": "display_data",
          "data": {
            "image/png": "[encoded data removed]",
            "text/plain": [
              "<Figure size 720x432 with 1 Axes>"
            ]
          },
          "metadata": {
            "tags": [],
            "needs_background": "light"
          }
        }
      ]
    },
    {
      "cell_type": "code",
      "metadata": {
        "id": "0q8H_YUf_0iO"
      },
      "source": [
        "# EXPORT DATA\n",
        "# -----------\n",
        "\n",
        "# Import libraries \n",
        "import glob as glob"
      ],
      "execution_count": null,
      "outputs": []
    },
    {
      "cell_type": "code",
      "metadata": {
        "id": "oJrH_xYG_4oP"
      },
      "source": [
        "# Export to a csv file\n",
        "compress_opts = dict(method='zip', archive_name = 'out-csv.csv')\n",
        "df.to_csv('out-csv.zip', index = False, compression = compress_opts)"
      ],
      "execution_count": null,
      "outputs": []
    },
    {
      "cell_type": "code",
      "metadata": {
        "id": "xjkG9bfL_5Ys"
      },
      "source": [
        "# Export to an excel file\n",
        "df.to_excel('out-excel.xlsx')"
      ],
      "execution_count": null,
      "outputs": []
    },
    {
      "cell_type": "code",
      "metadata": {
        "id": "moWGQ54_DY3n",
        "colab": {
          "base_uri": "https://localhost:8080/"
        },
        "outputId": "c12485bd-da11-4180-fade-c62dc0a32bf5"
      },
      "source": [
        "# MACHINE LEARNING \n",
        "# ---------------- \n",
        "\n",
        "# Features are the colummns used to train the model (inputs)\n",
        "# Label is what we are trying to predict (output)\n",
        "# Create a list for all features \n",
        "features = list(df)\n",
        "features"
      ],
      "execution_count": null,
      "outputs": [
        {
          "output_type": "execute_result",
          "data": {
            "text/plain": [
              "['Datetime',\n",
              " 'Consump1 Rate (kg/h)',\n",
              " 'Consump2 Rate  (kg/h)',\n",
              " 'Eng1 Tot1 Mass (kg)',\n",
              " 'Eng1 Tot2 Mass (kg)',\n",
              " 'Eng2 Tot1 Mass (kg)',\n",
              " 'Eng2 Tot2 Mass (kg)',\n",
              " 'Torque 1 (kNm)',\n",
              " 'Speed 1 (rpm)',\n",
              " 'Power1 (kW)',\n",
              " 'SpeedlogSpeed (kn)',\n",
              " 'Gps Speed (kn)',\n",
              " 'Aux Power1 (kW)']"
            ]
          },
          "metadata": {
            "tags": []
          },
          "execution_count": 61
        }
      ]
    },
    {
      "cell_type": "code",
      "metadata": {
        "id": "An7t8mT8Da_b",
        "colab": {
          "base_uri": "https://localhost:8080/",
          "height": 35
        },
        "outputId": "6b4a427a-523c-44b7-dc9d-c3c48eab40a5"
      },
      "source": [
        "# Set label \n",
        "label = features[8]\n",
        "label"
      ],
      "execution_count": null,
      "outputs": [
        {
          "output_type": "execute_result",
          "data": {
            "application/vnd.google.colaboratory.intrinsic+json": {
              "type": "string"
            },
            "text/plain": [
              "'Speed 1 (rpm)'"
            ]
          },
          "metadata": {
            "tags": []
          },
          "execution_count": 62
        }
      ]
    },
    {
      "cell_type": "code",
      "metadata": {
        "id": "fRfLl9sMDepo",
        "colab": {
          "base_uri": "https://localhost:8080/"
        },
        "outputId": "45d57271-dee1-4218-c2d8-78780228be83"
      },
      "source": [
        "# Create list for test features \n",
        "test_features = [features[6],\n",
        "                 features[7],\n",
        "                 features[9]]\n",
        "test_features"
      ],
      "execution_count": null,
      "outputs": [
        {
          "output_type": "execute_result",
          "data": {
            "text/plain": [
              "['Eng2 Tot2 Mass (kg)', 'Torque 1 (kNm)', 'Power1 (kW)']"
            ]
          },
          "metadata": {
            "tags": []
          },
          "execution_count": 63
        }
      ]
    },
    {
      "cell_type": "code",
      "metadata": {
        "id": "TYPB02dHDhOh",
        "colab": {
          "base_uri": "https://localhost:8080/",
          "height": 201
        },
        "outputId": "38fbfb1d-4020-4935-a700-99c7baea5942"
      },
      "source": [
        "# Create new dataframe for training\n",
        "df_train = pd.DataFrame()\n",
        "\n",
        "for n_ in test_features:\n",
        "  df_train[n_] = df[n_]\n",
        "\n",
        "df_train.head()"
      ],
      "execution_count": null,
      "outputs": [
        {
          "output_type": "execute_result",
          "data": {
            "text/html": [
              "<div>\n",
              "<style scoped>\n",
              "    .dataframe tbody tr th:only-of-type {\n",
              "        vertical-align: middle;\n",
              "    }\n",
              "\n",
              "    .dataframe tbody tr th {\n",
              "        vertical-align: top;\n",
              "    }\n",
              "\n",
              "    .dataframe thead th {\n",
              "        text-align: right;\n",
              "    }\n",
              "</style>\n",
              "<table border=\"1\" class=\"dataframe\">\n",
              "  <thead>\n",
              "    <tr style=\"text-align: right;\">\n",
              "      <th></th>\n",
              "      <th>Eng2 Tot2 Mass (kg)</th>\n",
              "      <th>Torque 1 (kNm)</th>\n",
              "      <th>Power1 (kW)</th>\n",
              "    </tr>\n",
              "  </thead>\n",
              "  <tbody>\n",
              "    <tr>\n",
              "      <th>0</th>\n",
              "      <td>51114</td>\n",
              "      <td>536</td>\n",
              "      <td>4110</td>\n",
              "    </tr>\n",
              "    <tr>\n",
              "      <th>1</th>\n",
              "      <td>51114</td>\n",
              "      <td>542</td>\n",
              "      <td>4155</td>\n",
              "    </tr>\n",
              "    <tr>\n",
              "      <th>2</th>\n",
              "      <td>51114</td>\n",
              "      <td>546</td>\n",
              "      <td>4182</td>\n",
              "    </tr>\n",
              "    <tr>\n",
              "      <th>3</th>\n",
              "      <td>51114</td>\n",
              "      <td>548</td>\n",
              "      <td>4205</td>\n",
              "    </tr>\n",
              "    <tr>\n",
              "      <th>4</th>\n",
              "      <td>51114</td>\n",
              "      <td>544</td>\n",
              "      <td>4165</td>\n",
              "    </tr>\n",
              "  </tbody>\n",
              "</table>\n",
              "</div>"
            ],
            "text/plain": [
              "   Eng2 Tot2 Mass (kg)  Torque 1 (kNm)  Power1 (kW)\n",
              "0                51114             536         4110\n",
              "1                51114             542         4155\n",
              "2                51114             546         4182\n",
              "3                51114             548         4205\n",
              "4                51114             544         4165"
            ]
          },
          "metadata": {
            "tags": []
          },
          "execution_count": 64
        }
      ]
    },
    {
      "cell_type": "code",
      "metadata": {
        "id": "f3z45_9lDkrx"
      },
      "source": [
        "# Create arrays\n",
        "X = np.array(df_train)\n",
        "y = np.array(df[label])"
      ],
      "execution_count": null,
      "outputs": []
    },
    {
      "cell_type": "code",
      "metadata": {
        "id": "OBoWy_dIDm75"
      },
      "source": [
        "# Import librairies \n",
        "import sklearn as sk\n",
        "\n",
        "from sklearn.model_selection import train_test_split\n",
        "from sklearn import linear_model\n",
        "from sklearn.metrics import mean_squared_error\n",
        "from sklearn.metrics import r2_score"
      ],
      "execution_count": null,
      "outputs": []
    },
    {
      "cell_type": "code",
      "metadata": {
        "id": "QrWISr8gDp9L"
      },
      "source": [
        "# Make a train/test split \n",
        "# Don't use all the data for training the model\n",
        "# Divide it into a train and test set (75 / 25 split)  \n",
        "# Split is created randomly - removed data is not seen by the model for training\n",
        "# The removed data is used to test the model after being trained \n",
        "X_train, X_test, y_train, y_test = train_test_split(X, y, train_size=0.75, test_size=0.25, random_state=42)\n",
        "\n",
        "train_dataset = df_train.sample(frac=0.75,random_state=42)\n",
        "test_dataset = df_train.drop(train_dataset.index)"
      ],
      "execution_count": null,
      "outputs": []
    },
    {
      "cell_type": "code",
      "metadata": {
        "id": "wmPwnI8FDrpK",
        "colab": {
          "base_uri": "https://localhost:8080/"
        },
        "outputId": "63c824fb-9778-4cbf-f2c7-28bbc0633343"
      },
      "source": [
        "# Linear regression \n",
        "m_linear = sk.linear_model.LinearRegression()\n",
        "m_linear.fit(X_train, y_train.reshape(-1,))\n",
        "R2_train = r2_score(m_linear.predict(X_test), y_test)\n",
        "print('Linear R2 train', R2_train)"
      ],
      "execution_count": null,
      "outputs": [
        {
          "output_type": "stream",
          "text": [
            "Linear R2 train 0.876148759334479\n"
          ],
          "name": "stdout"
        }
      ]
    },
    {
      "cell_type": "code",
      "metadata": {
        "id": "h1JQz4ZCDtb4",
        "colab": {
          "base_uri": "https://localhost:8080/",
          "height": 404
        },
        "outputId": "722383dc-06d7-4497-c9c2-8bdc56dc8847"
      },
      "source": [
        "# Scatter plot \n",
        "plt.figure(figsize=(10,6)) # Specify the size\n",
        "plt.scatter(y, m_linear.predict(X))\n",
        "plt.title('Power1')\n",
        "plt.xlabel('True Value [kW]')\n",
        "plt.ylabel('Predicted Value [kW]')\n",
        "plt.grid()\n",
        "plt.savefig('ml.png',dpi=150) # Saving options\n",
        "plt.show()"
      ],
      "execution_count": null,
      "outputs": [
        {
          "output_type": "display_data",
          "data": {
            "image/png": "[encoded data removed]",
            "text/plain": [
              "<Figure size 720x432 with 1 Axes>"
            ]
          },
          "metadata": {
            "tags": [],
            "needs_background": "light"
          }
        }
      ]
    }
  ]
}